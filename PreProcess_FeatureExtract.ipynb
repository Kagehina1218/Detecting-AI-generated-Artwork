{
  "cells": [
    {
      "cell_type": "markdown",
      "metadata": {
        "id": "1Gv6Zyv1h8TG"
      },
      "source": [
        "# Setup"
      ]
    },
    {
      "cell_type": "code",
      "execution_count": null,
      "metadata": {
        "colab": {
          "base_uri": "https://localhost:8080/"
        },
        "id": "-6UayctxiGpj",
        "outputId": "e21731cd-6b99-4c3d-ea97-0bbcd5d0dcd6",
        "collapsed": true
      },
      "outputs": [
        {
          "output_type": "stream",
          "name": "stdout",
          "text": [
            "Requirement already satisfied: opencv-python in /usr/local/lib/python3.10/dist-packages (4.10.0.84)\n",
            "Requirement already satisfied: numpy>=1.21.2 in /usr/local/lib/python3.10/dist-packages (from opencv-python) (1.26.4)\n",
            "Requirement already satisfied: matplotlib in /usr/local/lib/python3.10/dist-packages (3.10.0)\n",
            "Requirement already satisfied: contourpy>=1.0.1 in /usr/local/lib/python3.10/dist-packages (from matplotlib) (1.3.1)\n",
            "Requirement already satisfied: cycler>=0.10 in /usr/local/lib/python3.10/dist-packages (from matplotlib) (0.12.1)\n",
            "Requirement already satisfied: fonttools>=4.22.0 in /usr/local/lib/python3.10/dist-packages (from matplotlib) (4.55.3)\n",
            "Requirement already satisfied: kiwisolver>=1.3.1 in /usr/local/lib/python3.10/dist-packages (from matplotlib) (1.4.8)\n",
            "Requirement already satisfied: numpy>=1.23 in /usr/local/lib/python3.10/dist-packages (from matplotlib) (1.26.4)\n",
            "Requirement already satisfied: packaging>=20.0 in /usr/local/lib/python3.10/dist-packages (from matplotlib) (24.2)\n",
            "Requirement already satisfied: pillow>=8 in /usr/local/lib/python3.10/dist-packages (from matplotlib) (11.1.0)\n",
            "Requirement already satisfied: pyparsing>=2.3.1 in /usr/local/lib/python3.10/dist-packages (from matplotlib) (3.2.1)\n",
            "Requirement already satisfied: python-dateutil>=2.7 in /usr/local/lib/python3.10/dist-packages (from matplotlib) (2.8.2)\n",
            "Requirement already satisfied: six>=1.5 in /usr/local/lib/python3.10/dist-packages (from python-dateutil>=2.7->matplotlib) (1.17.0)\n",
            "Requirement already satisfied: numpy in /usr/local/lib/python3.10/dist-packages (1.26.4)\n",
            "Requirement already satisfied: opendatasets in /usr/local/lib/python3.10/dist-packages (0.1.22)\n",
            "Requirement already satisfied: tqdm in /usr/local/lib/python3.10/dist-packages (from opendatasets) (4.67.1)\n",
            "Requirement already satisfied: kaggle in /usr/local/lib/python3.10/dist-packages (from opendatasets) (1.6.17)\n",
            "Requirement already satisfied: click in /usr/local/lib/python3.10/dist-packages (from opendatasets) (8.1.8)\n",
            "Requirement already satisfied: six>=1.10 in /usr/local/lib/python3.10/dist-packages (from kaggle->opendatasets) (1.17.0)\n",
            "Requirement already satisfied: certifi>=2023.7.22 in /usr/local/lib/python3.10/dist-packages (from kaggle->opendatasets) (2024.12.14)\n",
            "Requirement already satisfied: python-dateutil in /usr/local/lib/python3.10/dist-packages (from kaggle->opendatasets) (2.8.2)\n",
            "Requirement already satisfied: requests in /usr/local/lib/python3.10/dist-packages (from kaggle->opendatasets) (2.32.3)\n",
            "Requirement already satisfied: python-slugify in /usr/local/lib/python3.10/dist-packages (from kaggle->opendatasets) (8.0.4)\n",
            "Requirement already satisfied: urllib3 in /usr/local/lib/python3.10/dist-packages (from kaggle->opendatasets) (2.3.0)\n",
            "Requirement already satisfied: bleach in /usr/local/lib/python3.10/dist-packages (from kaggle->opendatasets) (6.2.0)\n",
            "Requirement already satisfied: webencodings in /usr/local/lib/python3.10/dist-packages (from bleach->kaggle->opendatasets) (0.5.1)\n",
            "Requirement already satisfied: text-unidecode>=1.3 in /usr/local/lib/python3.10/dist-packages (from python-slugify->kaggle->opendatasets) (1.3)\n",
            "Requirement already satisfied: charset-normalizer<4,>=2 in /usr/local/lib/python3.10/dist-packages (from requests->kaggle->opendatasets) (3.4.1)\n",
            "Requirement already satisfied: idna<4,>=2.5 in /usr/local/lib/python3.10/dist-packages (from requests->kaggle->opendatasets) (3.10)\n",
            "Requirement already satisfied: pandas in /usr/local/lib/python3.10/dist-packages (2.2.2)\n",
            "Requirement already satisfied: numpy>=1.22.4 in /usr/local/lib/python3.10/dist-packages (from pandas) (1.26.4)\n",
            "Requirement already satisfied: python-dateutil>=2.8.2 in /usr/local/lib/python3.10/dist-packages (from pandas) (2.8.2)\n",
            "Requirement already satisfied: pytz>=2020.1 in /usr/local/lib/python3.10/dist-packages (from pandas) (2024.2)\n",
            "Requirement already satisfied: tzdata>=2022.7 in /usr/local/lib/python3.10/dist-packages (from pandas) (2024.2)\n",
            "Requirement already satisfied: six>=1.5 in /usr/local/lib/python3.10/dist-packages (from python-dateutil>=2.8.2->pandas) (1.17.0)\n"
          ]
        }
      ],
      "source": [
        "!pip3 install opencv-python\n",
        "!pip3 install matplotlib\n",
        "!pip3 install numpy\n",
        "!pip install opendatasets\n",
        "!pip install pandas"
      ]
    },
    {
      "cell_type": "code",
      "execution_count": null,
      "metadata": {
        "id": "JWr0qEV0KKNK"
      },
      "outputs": [],
      "source": [
        "#import the library\n",
        "import cv2\n",
        "import os\n",
        "import matplotlib.pyplot as plt\n",
        "import numpy as np\n",
        "import imageio\n",
        "import pandas as pd\n",
        "\n",
        "#skimage\n",
        "import skimage\n",
        "from skimage import color\n",
        "from skimage.io import imread\n",
        "from skimage import io, data, exposure\n",
        "from skimage.color import rgb2gray\n",
        "from skimage.feature import hog\n",
        "from skimage import feature\n",
        "\n",
        "#scipy\n",
        "from scipy.cluster.vq import kmeans,vq\n",
        "from scipy.stats import kurtosis\n",
        "from scipy.stats import skew\n",
        "from scipy.stats import entropy\n",
        "\n",
        "#sklearn\n",
        "from sklearn.cluster import KMeans\n",
        "from sklearn.metrics import silhouette_score\n",
        "from sklearn.model_selection import train_test_split\n",
        "from sklearn.svm import SVC\n",
        "from sklearn.metrics import classification_report"
      ]
    },
    {
      "cell_type": "code",
      "execution_count": null,
      "metadata": {
        "colab": {
          "base_uri": "https://localhost:8080/"
        },
        "id": "TsV6Pby8c7TH",
        "outputId": "343ad434-057a-4a52-cf72-fe85e9f51d31"
      },
      "outputs": [
        {
          "output_type": "stream",
          "name": "stdout",
          "text": [
            "Drive already mounted at /content/drive; to attempt to forcibly remount, call drive.mount(\"/content/drive\", force_remount=True).\n"
          ]
        }
      ],
      "source": [
        "from google.colab import drive\n",
        "drive.mount('/content/drive')\n",
        "folder_path = '' # substitue with your repository"
      ]
    },
    {
      "cell_type": "markdown",
      "metadata": {
        "id": "o3NX6zTTijx9"
      },
      "source": [
        "# Start"
      ]
    },
    {
      "cell_type": "code",
      "execution_count": null,
      "metadata": {
        "id": "YY7XAa8DZT4w"
      },
      "outputs": [],
      "source": [
        "# Input image\n",
        "data = []\n",
        "\n",
        "def feature_extract(image, image_name):\n",
        "  mean_brightness, variance_brightness, kurt_brightness, skew_brightness, entropy_brightness = brightness_extract(image)\n",
        "  noise_entropy = noise_extract(image)\n",
        "  snr = snr_extract(image)\n",
        "\n",
        "  mean_red, mean_green, mean_blue, variance_red, variance_green, variance_blue, kurt_red, kurt_blue, kurt_green, skew_red, skew_blue, skew_green, avg_entropy_rgb = rgb_extract(image)\n",
        "  hue_skewness, hue_kurt, hue_variance, sat_skewness, sat_kurt, sat_variance, val_skewness, val_kurt, val_variance, avg_entropy_hsv = hsv_extract(image)\n",
        "\n",
        "  contrast, correlation, energy, homogeneity = glcm_extract(image)\n",
        "  entropy_lbp, variance_lbp = lbp_extract(image)\n",
        "  edgelen = edgelen_extract(image)\n",
        "  hog_mean, hog_variance, hog_skewness, hog_kurt, hog_entropy = hog_extract(image)\n",
        "  edgelen = edgelen_extract(image)\n",
        "\n",
        "  features = {\n",
        "      'image':image_name,\n",
        "      'label': 0,\n",
        "      'style': 'cubism',\n",
        "      'mean_brigtness': mean_brightness,\n",
        "      'variance_brightness': variance_brightness,\n",
        "      'kurt_brightness': kurt_brightness,\n",
        "      'skew_brightness': skew_brightness,\n",
        "      'entropy_brightness': entropy_brightness,\n",
        "      'noise_entropy': noise_entropy,\n",
        "      'snr': snr,\n",
        "      'mean_red': mean_red,\n",
        "      'mean_green': mean_green,\n",
        "      'mean_blue': mean_blue,\n",
        "      'variance_red': variance_red,\n",
        "      'variance_green': variance_green,\n",
        "      'variance_blue': variance_blue,\n",
        "      'kurt_red': kurt_red,\n",
        "      'kurt_blue': kurt_blue,\n",
        "      'kurt_green': kurt_green,\n",
        "      'skew_red': skew_red,\n",
        "      'skew_blue': skew_blue,\n",
        "      'skew_green': skew_green,\n",
        "      'avg_entropy_rgb': avg_entropy_rgb,\n",
        "      'hue_skewness': hue_skewness,\n",
        "      'hue_kurt': hue_kurt,\n",
        "      'hue_variance': hue_variance,\n",
        "      'sat_skewness': sat_skewness,\n",
        "      'sat_kurt': sat_kurt,\n",
        "      'sat_variance': sat_variance,\n",
        "      'val_skewness': val_skewness,\n",
        "      'val_kurt': val_kurt,\n",
        "      'val_variance': val_variance,\n",
        "      'avg_entropy_hsv': avg_entropy_hsv,\n",
        "      'contrast': contrast,\n",
        "      'correlation': correlation,\n",
        "      'energy': energy,\n",
        "      'homogeneity': homogeneity,\n",
        "      'entropy_lbp': entropy_lbp,\n",
        "      'variance_lbp': variance_lbp,\n",
        "      'edgelen': edgelen,\n",
        "      'hog_mean': hog_mean,\n",
        "      'hog_variance': hog_variance,\n",
        "      'hog_skewness': hog_skewness,\n",
        "      'hog_kurt': hog_kurt,\n",
        "      'hog_entropy': hog_entropy,\n",
        "      'edgelen': edgelen\n",
        "  }\n",
        "\n",
        "  return features\n",
        "\n",
        "height = 255\n",
        "width = 255\n",
        "\n",
        "for filename in os.listdir(folder_path):\n",
        "    if filename.endswith(('.png', '.jpg', '.jpeg')):\n",
        "        image_path = os.path.join(folder_path, filename)\n",
        "        image = cv2.imread(image_path)\n",
        "        image = cv2.resize(image, (height, width))\n",
        "        features = feature_extract(image,filename)\n",
        "        data.append(features)\n",
        "\n",
        "df = pd.DataFrame(data)\n",
        "df\n",
        "df.to_csv('/content/drive/My Drive/df.csv', index=False)"
      ]
    },
    {
      "cell_type": "markdown",
      "metadata": {
        "id": "a7PVyDrOWi9u"
      },
      "source": [
        "#Feature extraction"
      ]
    },
    {
      "cell_type": "markdown",
      "metadata": {
        "id": "uM-qc2-iRtiH"
      },
      "source": [
        "## Brightness"
      ]
    },
    {
      "cell_type": "code",
      "execution_count": null,
      "metadata": {
        "id": "4DrPqh9DLa3Z"
      },
      "outputs": [],
      "source": [
        "def brightness_extract(image):\n",
        "  gray_image = cv2.cvtColor(image, cv2.COLOR_BGR2GRAY)\n",
        "  mean_brightness = np.mean(gray_image)\n",
        "  variance_brightness = np.var(gray_image)\n",
        "  kurt_brightness = kurtosis(gray_image)[0]\n",
        "  skew_brightness = skew(gray_image)[0]\n",
        "  entropy_brightness = entropy(gray_image.ravel(), base=2)\n",
        "  return mean_brightness, variance_brightness, kurt_brightness, skew_brightness, entropy_brightness"
      ]
    },
    {
      "cell_type": "markdown",
      "metadata": {
        "id": "IVL3LfCotiD0"
      },
      "source": [
        "## Noise"
      ]
    },
    {
      "cell_type": "markdown",
      "metadata": {
        "id": "TA458PKRdAaB"
      },
      "source": [
        "Noise"
      ]
    },
    {
      "cell_type": "code",
      "execution_count": null,
      "metadata": {
        "id": "h9eX5tkrtpdG"
      },
      "outputs": [],
      "source": [
        "def noise_extract(image):\n",
        "  gray_image = cv2.cvtColor(image, cv2.COLOR_BGR2GRAY)\n",
        "  smoothed_image = cv2.GaussianBlur(gray_image, (5, 5), 0)\n",
        "  noise = gray_image.astype(np.float32) - smoothed_image.astype(np.float32)\n",
        "  noise_shifted = noise - noise.min()\n",
        "  hist, _ = np.histogram(noise_shifted, bins=256, range=(0, noise_shifted.max()))\n",
        "  hist_normalized = hist / hist.sum()\n",
        "  entropy_noise = entropy(hist_normalized, base=2)\n",
        "\n",
        "  return entropy_noise"
      ]
    },
    {
      "cell_type": "markdown",
      "metadata": {
        "id": "c1Z5so_kSO7z"
      },
      "source": [
        "Signal to Noise ratio"
      ]
    },
    {
      "cell_type": "code",
      "execution_count": null,
      "metadata": {
        "id": "DbfPxIaktkCO"
      },
      "outputs": [],
      "source": [
        "def snr_extract(image):\n",
        "  np.random.seed(42)\n",
        "  noise = np.random.normal(0, 25, image.shape).astype(np.float32)\n",
        "  noisy_image = image.astype(np.float32) + noise\n",
        "  noisy_image = np.clip(noisy_image, 0, 255).astype(np.uint8)\n",
        "\n",
        "  gray_image = cv2.cvtColor(image, cv2.COLOR_BGR2GRAY).astype(np.float32)\n",
        "  gray_noisy_image = cv2.cvtColor(noisy_image, cv2.COLOR_BGR2GRAY).astype(np.float32)\n",
        "\n",
        "  signal_power= np.mean(gray_image ** 2)\n",
        "  noise_power = np.mean((gray_image - gray_noisy_image) ** 2)\n",
        "\n",
        "  if noise_power == 0:\n",
        "    return float('inf')\n",
        "\n",
        "  snr = 10 * np.log10(signal_power / noise_power)\n",
        "  return snr"
      ]
    },
    {
      "cell_type": "markdown",
      "metadata": {
        "id": "cH4y7h89YDQf"
      },
      "source": [
        "## Color"
      ]
    },
    {
      "cell_type": "markdown",
      "metadata": {
        "id": "TkE8azuzlT4u"
      },
      "source": [
        "RGB histogram"
      ]
    },
    {
      "cell_type": "code",
      "execution_count": null,
      "metadata": {
        "id": "qZ1Un0QUYJd9"
      },
      "outputs": [],
      "source": [
        "def rgb_extract(image):\n",
        "  b, g, r = cv2.split(image)\n",
        "  red_color = cv2.calcHist([r], [0], None, [256], [0, 256])\n",
        "  green_color = cv2.calcHist([g], [0], None, [256], [0, 256])\n",
        "  blue_color = cv2.calcHist([b], [0], None, [256], [0, 256])\n",
        "\n",
        "  # Mean\n",
        "  mean_red = np.mean(r)\n",
        "  mean_green = np.mean(g)\n",
        "  mean_blue = np.mean(b)\n",
        "\n",
        "  # Variance\n",
        "  variance_red = np.var(red_color)\n",
        "  variance_blue = np.var(blue_color)\n",
        "  variance_green = np.var(green_color)\n",
        "\n",
        "  # Kurtosis\n",
        "  kurt_red = kurtosis(red_color)[0]\n",
        "  kurt_blue = kurtosis(blue_color)[0]\n",
        "  kurt_green = kurtosis(green_color)[0]\n",
        "\n",
        "  # Skewness\n",
        "  skew_red = skew(red_color)[0]\n",
        "  skew_blue = skew(blue_color)[0]\n",
        "  skew_green = skew(green_color)[0]\n",
        "\n",
        "  # Entropy\n",
        "  entropy_red = entropy(red_color, base=2)\n",
        "  entropy_blue = entropy(blue_color, base=2)\n",
        "  entropy_green = entropy(green_color, base=2)\n",
        "  avg_entropy = (entropy_red + entropy_blue + entropy_green) / 3\n",
        "  avg_entropy = avg_entropy[0]\n",
        "\n",
        "  return mean_red, mean_green, mean_blue, variance_red, variance_green, variance_blue, kurt_red, kurt_blue, kurt_green, skew_red, skew_blue, skew_green, avg_entropy"
      ]
    },
    {
      "cell_type": "markdown",
      "metadata": {
        "id": "6YPh4RewnwVc"
      },
      "source": [
        "HSV histogram"
      ]
    },
    {
      "cell_type": "code",
      "execution_count": null,
      "metadata": {
        "id": "GkpLoIVVr75c"
      },
      "outputs": [],
      "source": [
        "def hsv_extract(image):\n",
        "  hsv_image = cv2.cvtColor(image, cv2.COLOR_BGR2HSV)\n",
        "\n",
        "  # Hue, Saturation, Value\n",
        "  hue_hist = cv2.calcHist([hsv_image], [0], None, [180], [0, 180])\n",
        "  sat_hist = cv2.calcHist([hsv_image], [1], None, [256], [0, 256])\n",
        "  val_hist = cv2.calcHist([hsv_image], [2], None, [256], [0, 256])\n",
        "\n",
        "  # Hue\n",
        "  hue_mean = np.mean(hue_hist)\n",
        "  hue_skewness = skew(hue_hist)[0]\n",
        "  hue_kurt = kurtosis(hue_hist)[0]\n",
        "  hue_variance = np.var(hue_hist)\n",
        "\n",
        "  # Saturation\n",
        "  sat_mean = np.mean(sat_hist)\n",
        "  sat_skewness = skew(sat_hist)[0]\n",
        "  sat_kurt = kurtosis(sat_hist)[0]\n",
        "  sat_variance = np.var(sat_hist)\n",
        "\n",
        "  # Value\n",
        "  val_mean = np.mean(val_hist)\n",
        "  val_skewness = skew(val_hist)[0]\n",
        "  val_kurt = kurtosis(val_hist)[0]\n",
        "  val_variance = np.var(val_hist)\n",
        "\n",
        "  # Entropy\n",
        "  hue_entropy = entropy(hue_hist, base=2)\n",
        "  sat_entropy = entropy(sat_hist, base=2)\n",
        "  val_entropy = entropy(val_hist, base=2)\n",
        "  avg_entropy = (hue_entropy + sat_entropy + val_entropy) / 3\n",
        "  avg_entropy = avg_entropy[0]\n",
        "\n",
        "  return hue_skewness, hue_kurt, hue_variance, sat_skewness, sat_kurt, sat_variance, val_skewness, val_kurt, val_variance, avg_entropy"
      ]
    },
    {
      "cell_type": "markdown",
      "metadata": {
        "id": "oSSkSd_AYFvI"
      },
      "source": [
        "## Texture feature"
      ]
    },
    {
      "cell_type": "markdown",
      "metadata": {
        "id": "2OJgzQbYqBmO"
      },
      "source": [
        "Gray Level Co-Occurrence Matrix"
      ]
    },
    {
      "cell_type": "code",
      "execution_count": null,
      "metadata": {
        "id": "zsRPXZEbWm86"
      },
      "outputs": [],
      "source": [
        "def glcm_extract(image):\n",
        "  texture = cv2.cvtColor(image, cv2.COLOR_BGR2GRAY)\n",
        "\n",
        "  co_matrix = skimage.feature.graycomatrix(texture, [5], [0], levels=256, symmetric=True, normed=True)\n",
        "\n",
        "  contrast = skimage.feature.graycoprops(co_matrix, 'contrast')[0,0]\n",
        "  correlation = skimage.feature.graycoprops(co_matrix, 'correlation')[0,0]\n",
        "  energy = skimage.feature.graycoprops(co_matrix, 'energy')[0,0]\n",
        "  homogeneity = skimage.feature.graycoprops(co_matrix, 'homogeneity')[0,0]\n",
        "\n",
        "  return contrast, correlation, energy, homogeneity"
      ]
    },
    {
      "cell_type": "markdown",
      "metadata": {
        "id": "hiNlt9ajqLlh"
      },
      "source": [
        "Local binary pattern"
      ]
    },
    {
      "cell_type": "code",
      "execution_count": null,
      "metadata": {
        "id": "9VNQBJZxtu2n"
      },
      "outputs": [],
      "source": [
        "def lbp_extract(image):\n",
        "  gray_image = cv2.cvtColor(image, cv2.COLOR_BGR2GRAY)\n",
        "  lbp = feature.local_binary_pattern(gray_image, P=8, R=1, method='uniform')\n",
        "  (hist, _) = np.histogram(lbp.ravel(), bins=np.arange(0, 11), range=(0, 10))\n",
        "\n",
        "  lbp_hist = hist.astype('float')\n",
        "\n",
        "  variance_lbp = np.var(lbp_hist)\n",
        "\n",
        "  lbp_hist /= lbp_hist.sum()\n",
        "  entropy_lbp = entropy(lbp_hist, base=2)\n",
        "\n",
        "  return entropy_lbp, variance_lbp"
      ]
    },
    {
      "cell_type": "markdown",
      "metadata": {
        "id": "zOQzA7ygSr9M"
      },
      "source": [
        "## Shape"
      ]
    },
    {
      "cell_type": "markdown",
      "metadata": {
        "id": "NQLU0LdIRlwu"
      },
      "source": [
        "Histogram of oriented gradients"
      ]
    },
    {
      "cell_type": "code",
      "execution_count": null,
      "metadata": {
        "id": "HTTLn4Pbb2lI"
      },
      "outputs": [],
      "source": [
        "def hog_extract(image):\n",
        "  gray_image = cv2.cvtColor(image, cv2.COLOR_BGR2GRAY)\n",
        "  hog_features, hog_image = hog(gray_image, orientations=9, pixels_per_cell=(8, 8),\n",
        "                          cells_per_block=(2, 2), visualize=True)\n",
        "  hog_mean = np.mean(hog_features)\n",
        "  hog_variance = np.var( hog_features)\n",
        "  hog_skewness = skew(hog_features)\n",
        "  hog_kurt = kurtosis(hog_features)\n",
        "  hog_entropy = entropy(hog_features, base=2)\n",
        "  return hog_mean, hog_variance, hog_skewness, hog_kurt, hog_entropy"
      ]
    },
    {
      "cell_type": "markdown",
      "metadata": {
        "id": "hru8P6gTZtVw"
      },
      "source": [
        "Edge feature"
      ]
    },
    {
      "cell_type": "code",
      "execution_count": null,
      "metadata": {
        "id": "zXmuhziFIUgL"
      },
      "outputs": [],
      "source": [
        "def edgelen_extract(image):\n",
        "  gray_image = cv2.cvtColor(image, cv2.COLOR_BGR2GRAY)\n",
        "  edges = cv2.Canny(gray_image, 100, 200)\n",
        "  edgelen = np.count_nonzero(edges)\n",
        "\n",
        "  return edgelen"
      ]
    }
  ],
  "metadata": {
    "colab": {
      "collapsed_sections": [
        "1Gv6Zyv1h8TG",
        "a7PVyDrOWi9u"
      ],
      "provenance": []
    },
    "kernelspec": {
      "display_name": "Python 3",
      "name": "python3"
    },
    "language_info": {
      "name": "python"
    }
  },
  "nbformat": 4,
  "nbformat_minor": 0
}