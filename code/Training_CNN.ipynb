{
  "nbformat": 4,
  "nbformat_minor": 0,
  "metadata": {
    "colab": {
      "provenance": [],
      "machine_shape": "hm",
      "gpuType": "T4"
    },
    "kernelspec": {
      "name": "python3",
      "display_name": "Python 3"
    },
    "language_info": {
      "name": "python"
    },
    "accelerator": "GPU"
  },
  "cells": [
    {
      "cell_type": "markdown",
      "source": [
        "# Setup"
      ],
      "metadata": {
        "id": "vvd9IW3sUJBG"
      }
    },
    {
      "cell_type": "code",
      "source": [
        "!pip install scikeras"
      ],
      "metadata": {
        "collapsed": true,
        "id": "2f2ySBlc3Lk-"
      },
      "execution_count": null,
      "outputs": []
    },
    {
      "cell_type": "code",
      "execution_count": null,
      "metadata": {
        "id": "DJRh7-E3UFwf"
      },
      "outputs": [],
      "source": [
        "import tensorflow as tf\n",
        "\n",
        "from tensorflow.keras.models import Sequential\n",
        "from tensorflow.keras.layers import Conv2D, MaxPooling2D, Flatten, Dense, Dropout\n",
        "from sklearn.model_selection import GridSearchCV\n",
        "from tensorflow.keras.optimizers import Adam\n",
        "from tensorflow.keras.utils import to_categorical\n",
        "\n",
        "from scikeras.wrappers import KerasClassifier\n",
        "import cv2\n",
        "import os\n",
        "import matplotlib.pyplot as plt\n",
        "from PIL import Image\n",
        "import numpy as np\n",
        "from numpy import argmax\n",
        "from sklearn.model_selection import train_test_split\n",
        "from sklearn.preprocessing import LabelEncoder\n",
        "from sklearn.metrics import confusion_matrix\n",
        "from sklearn import preprocessing\n",
        "from sklearn.model_selection import train_test_split\n",
        "import shutil\n",
        "\n",
        "from google.colab import drive"
      ]
    },
    {
      "cell_type": "code",
      "source": [
        "import torch\n",
        "import numpy as np"
      ],
      "metadata": {
        "id": "ulkXpgcGO2to"
      },
      "execution_count": null,
      "outputs": []
    },
    {
      "cell_type": "markdown",
      "source": [
        "# Dataset"
      ],
      "metadata": {
        "id": "1l-y4HwtkE0C"
      }
    },
    {
      "cell_type": "code",
      "source": [
        "#Replace to the working datapath\n",
        "drive.mount('/content/drive')\n",
        "train_path = ''\n",
        "test_path = ''\n",
        "val_path = ''"
      ],
      "metadata": {
        "id": "yDh-ZPuUkGm6"
      },
      "execution_count": null,
      "outputs": []
    },
    {
      "cell_type": "markdown",
      "source": [
        "## Preprocess the dataset"
      ],
      "metadata": {
        "id": "Yusemu93gRr3"
      }
    },
    {
      "cell_type": "code",
      "source": [
        "train_ds = tf.keras.utils.image_dataset_from_directory(\n",
        "    train_path,\n",
        "    image_size=(256, 256),\n",
        "    batch_size=32,\n",
        "    shuffle=True\n",
        ")"
      ],
      "metadata": {
        "id": "Uv05mXcFgTnX"
      },
      "execution_count": null,
      "outputs": []
    },
    {
      "cell_type": "code",
      "source": [
        "test_ds = tf.keras.utils.image_dataset_from_directory(\n",
        "    test_path,\n",
        "    image_size=(256, 256)\n",
        ")"
      ],
      "metadata": {
        "id": "ROUlqQS1hAUI"
      },
      "execution_count": null,
      "outputs": []
    },
    {
      "cell_type": "code",
      "source": [
        "val_ds = tf.keras.utils.image_dataset_from_directory(\n",
        "    val_path,\n",
        "    image_size=(256, 256)\n",
        ")"
      ],
      "metadata": {
        "id": "-mBnbcOGhMX2"
      },
      "execution_count": null,
      "outputs": []
    },
    {
      "cell_type": "code",
      "source": [
        "def map(image, label):\n",
        "  num_classes = 6\n",
        "  label = to_categorical(label, num_classes=num_classes)\n",
        "  return image, label"
      ],
      "metadata": {
        "id": "eGRFEqajhoJm"
      },
      "execution_count": null,
      "outputs": []
    },
    {
      "cell_type": "code",
      "source": [
        "train_ds = train_ds.map(map)\n",
        "val_ds   = val_ds.map(map)\n",
        "test_ds  = test_ds.map(map)"
      ],
      "metadata": {
        "id": "dUgAyduVBHkF"
      },
      "execution_count": null,
      "outputs": []
    },
    {
      "cell_type": "code",
      "source": [
        "for image_batch, labels_batch in train_ds:\n",
        "  print(image_batch.shape)\n",
        "  print(labels_batch.shape)\n",
        "  break\n",
        "print(labels_batch)"
      ],
      "metadata": {
        "collapsed": true,
        "id": "6_bAvSuahuLn"
      },
      "execution_count": null,
      "outputs": []
    },
    {
      "cell_type": "code",
      "source": [
        "def augment(image, label):\n",
        "    scale_factor = tf.random.uniform([], 0.5, 2.0)\n",
        "    orig_shape = tf.shape(image)[1:3]\n",
        "    scaled_shape = tf.cast(tf.cast(orig_shape, tf.float32) * scale_factor, tf.int32)\n",
        "    resized_image = tf.image.resize(image, scaled_shape)\n",
        "    rescaled_image = tf.image.resize(resized_image, orig_shape)\n",
        "\n",
        "    return rescaled_image, label"
      ],
      "metadata": {
        "id": "xfQ59uWshz0g"
      },
      "execution_count": null,
      "outputs": []
    },
    {
      "cell_type": "code",
      "source": [
        "train_ds = train_ds.map(augment)\n",
        "val_ds = val_ds.map(augment)\n",
        "test_ds  = test_ds.map(augment)"
      ],
      "metadata": {
        "id": "j4JTh66Uh3ZX"
      },
      "execution_count": null,
      "outputs": []
    },
    {
      "cell_type": "code",
      "source": [
        "for image_batch, labels_batch in train_ds:\n",
        "  print(image_batch.shape)\n",
        "  print(labels_batch.shape)\n",
        "  print(argmax(labels_batch))\n",
        "  break\n",
        "print(labels_batch)"
      ],
      "metadata": {
        "id": "6zoEhsEh9L6t"
      },
      "execution_count": null,
      "outputs": []
    },
    {
      "cell_type": "markdown",
      "source": [
        "# Model"
      ],
      "metadata": {
        "id": "yxoiJ-e20hS3"
      }
    },
    {
      "cell_type": "markdown",
      "source": [
        "## Prepare"
      ],
      "metadata": {
        "id": "vHK4bTvoAnny"
      }
    },
    {
      "cell_type": "code",
      "source": [
        "output_size = 6\n",
        "batch_size = 32\n",
        "max_epoches = 100"
      ],
      "metadata": {
        "id": "IaHofCqHAoz4"
      },
      "execution_count": null,
      "outputs": []
    },
    {
      "cell_type": "code",
      "source": [
        "early_stopping = tf.keras.callbacks.EarlyStopping(monitor='val_loss',\n",
        "                                                  patience=3,\n",
        "                                                  restore_best_weights=True,\n",
        "                                                  verbose=1)"
      ],
      "metadata": {
        "id": "KBVQX3GMAtzr"
      },
      "execution_count": null,
      "outputs": []
    },
    {
      "cell_type": "code",
      "source": [
        "# Customize based on need\n",
        "METRICS = [\n",
        "      tf.keras.metrics.CategoricalAccuracy(name='accuracy'),\n",
        "      tf.keras.metrics.CategoricalCrossentropy(name='cross entropy'),\n",
        "      tf.keras.metrics.Precision(name='precision'),\n",
        "      tf.keras.metrics.Recall(name='recall')\n",
        "]"
      ],
      "metadata": {
        "id": "L967X3whBLcy"
      },
      "execution_count": null,
      "outputs": []
    },
    {
      "cell_type": "markdown",
      "source": [
        "## Model initialized"
      ],
      "metadata": {
        "id": "P8yJxUXV_v0I"
      }
    },
    {
      "cell_type": "code",
      "source": [
        "model_1 = tf.keras.Sequential([\n",
        "  tf.keras.layers.Rescaling(1./255),\n",
        "\n",
        "  tf.keras.layers.Conv2D(32, 3, activation='relu', kernel_regularizer=tf.keras.regularizers.l2(l2=0.01)),\n",
        "  tf.keras.layers.MaxPooling2D(),\n",
        "\n",
        "  tf.keras.layers.Conv2D(32, 3, activation='relu', kernel_regularizer=tf.keras.regularizers.l2(l2=0.01)),\n",
        "  tf.keras.layers.MaxPooling2D(),\n",
        "\n",
        "  tf.keras.layers.Flatten(),\n",
        "  tf.keras.layers.Dense(128, activation='relu', kernel_regularizer=tf.keras.regularizers.l2(l2=0.01)),\n",
        "  tf.keras.layers.Dense(6, activation=\"softmax\")\n",
        "])"
      ],
      "metadata": {
        "id": "i7NNMkhX0iwa"
      },
      "execution_count": null,
      "outputs": []
    },
    {
      "cell_type": "code",
      "source": [
        "model_1.compile(optimizer=tf.keras.optimizers.Adam(learning_rate=0.001),\n",
        "                loss='categorical_crossentropy',\n",
        "                metrics=METRICS)"
      ],
      "metadata": {
        "id": "tNSr4wJ5AdU9"
      },
      "execution_count": null,
      "outputs": []
    },
    {
      "cell_type": "markdown",
      "source": [
        "## Start"
      ],
      "metadata": {
        "id": "sB8XoU3sBxAn"
      }
    },
    {
      "cell_type": "code",
      "source": [
        "history_1 = model_1.fit(train_ds,\n",
        "                      batch_size=batch_size,\n",
        "                      callbacks=[early_stopping],\n",
        "                      epochs = max_epoches,\n",
        "                      validation_data=(val_ds),\n",
        "                      verbose=2)"
      ],
      "metadata": {
        "id": "X_OMWzhQByNG"
      },
      "execution_count": null,
      "outputs": []
    },
    {
      "cell_type": "markdown",
      "source": [
        "## Evaluate"
      ],
      "metadata": {
        "id": "9i4_ZGmDm5ir"
      }
    },
    {
      "cell_type": "code",
      "source": [
        "model_1.evaluate(test_ds, verbose=2)"
      ],
      "metadata": {
        "id": "dBMi_eBHqt-H"
      },
      "execution_count": null,
      "outputs": []
    },
    {
      "cell_type": "code",
      "source": [
        "plt.plot(history_1.history['accuracy'], label='Training Accuracy')\n",
        "plt.plot(history_1.history['val_accuracy'], label='Validation Accuracy')\n",
        "plt.title('Model Accuracy')\n",
        "plt.ylabel('Accuracy')\n",
        "plt.xlabel('Epoch')\n",
        "plt.legend()\n",
        "plt.show()\n",
        "\n",
        "plt.plot(history_1.history['loss'], label='Training Loss')\n",
        "plt.plot(history_1.history['val_loss'], label='Validation Loss')\n",
        "plt.title('Model Loss')\n",
        "plt.ylabel('Loss')\n",
        "plt.xlabel('Epoch')\n",
        "plt.legend()\n",
        "plt.show()"
      ],
      "metadata": {
        "id": "6azZspE6sXjN"
      },
      "execution_count": null,
      "outputs": []
    },
    {
      "cell_type": "markdown",
      "source": [
        "# Plot diagram"
      ],
      "metadata": {
        "id": "6ZGnFZCLlM87"
      }
    },
    {
      "cell_type": "code",
      "source": [
        "import seaborn as sns"
      ],
      "metadata": {
        "id": "KqgPTDwclxSq"
      },
      "execution_count": null,
      "outputs": []
    },
    {
      "cell_type": "code",
      "source": [
        "model = tf.keras.models.load_model('') # If want to test saved models"
      ],
      "metadata": {
        "id": "5WAmm48ylO-W"
      },
      "execution_count": null,
      "outputs": []
    },
    {
      "cell_type": "code",
      "source": [
        "class_names = test_ds.class_names\n",
        "class_count = len(class_names)"
      ],
      "metadata": {
        "id": "6t3VSFR3lbnj"
      },
      "execution_count": null,
      "outputs": []
    },
    {
      "cell_type": "code",
      "source": [
        "label_map = {class_name: i for i, class_name in enumerate(class_names)}"
      ],
      "metadata": {
        "id": "vaxBuVM3lh_L"
      },
      "execution_count": null,
      "outputs": []
    },
    {
      "cell_type": "code",
      "source": [
        "y_true = []\n",
        "y_pred = []\n",
        "\n",
        "for images, labels in test_ds:\n",
        "    predictions = model.predict(images)\n",
        "    predicted_labels = np.argmax(predictions, axis=1)\n",
        "\n",
        "    true_labels = [label_map[class_names[label]] for label in labels.numpy()]\n",
        "\n",
        "    y_true.extend(true_labels)\n",
        "    y_pred.extend(predicted_labels)\n",
        "\n",
        "cm = confusion_matrix(y_true, y_pred)\n",
        "\n",
        "plt.figure(figsize=(10, 7))\n",
        "sns.heatmap(cm, annot=True, fmt='d', cmap='Blues', xticklabels=class_names, yticklabels=class_names)\n",
        "plt.xlabel('Predicted')\n",
        "plt.ylabel('True')\n",
        "plt.title('Confusion Matrix')\n",
        "plt.show()"
      ],
      "metadata": {
        "id": "BGz-pd4Lll95"
      },
      "execution_count": null,
      "outputs": []
    }
  ]
}