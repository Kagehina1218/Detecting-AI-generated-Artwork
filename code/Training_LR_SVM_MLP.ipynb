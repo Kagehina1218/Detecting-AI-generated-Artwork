{
  "cells": [
    {
      "cell_type": "markdown",
      "metadata": {
        "id": "CWVhuVKkRjhS"
      },
      "source": [
        "# Setup"
      ]
    },
    {
      "cell_type": "code",
      "execution_count": null,
      "metadata": {
        "id": "csJXXZXDyCN0"
      },
      "outputs": [],
      "source": [
        "!pip install --upgrade scikit-learn"
      ]
    },
    {
      "cell_type": "code",
      "execution_count": null,
      "metadata": {
        "id": "WR4r0Wq-WhJw"
      },
      "outputs": [],
      "source": [
        "import numpy as np\n",
        "import pandas as pd\n",
        "import tensorflow as tf\n",
        "import matplotlib.pyplot as plt\n",
        "import csv\n",
        "\n",
        "from sklearn.model_selection import train_test_split\n",
        "from sklearn.svm import SVC\n",
        "from sklearn.metrics import classification_report, confusion_matrix, ConfusionMatrixDisplay\n",
        "from sklearn.metrics import accuracy_score\n",
        "from sklearn.model_selection import GridSearchCV\n",
        "from sklearn.pipeline import make_pipeline, Pipeline\n",
        "from sklearn.linear_model import LogisticRegression\n",
        "from sklearn.preprocessing import StandardScaler\n",
        "from sklearn.neural_network import MLPClassifier\n",
        "from sklearn.datasets import make_classification\n",
        "\n",
        "from tensorflow.keras import layers, models, datasets"
      ]
    },
    {
      "cell_type": "markdown",
      "metadata": {
        "id": "s60oKymKh06Q"
      },
      "source": [
        "#SVM"
      ]
    },
    {
      "cell_type": "markdown",
      "metadata": {
        "id": "RHIPpQPd6hPa"
      },
      "source": [
        "##Set up dataset"
      ]
    },
    {
      "cell_type": "code",
      "execution_count": null,
      "metadata": {
        "id": "o4TW6m3vx972"
      },
      "outputs": [],
      "source": [
        "scaler = StandardScaler()"
      ]
    },
    {
      "cell_type": "code",
      "execution_count": null,
      "metadata": {
        "id": "S2Mke0pWxtnN"
      },
      "outputs": [],
      "source": [
        "df = pd.read_csv('') # Replace the path to the dataset to the working one\n",
        "df.dropna(inplace=True)\n",
        "columns_drop = ['label', 'image', 'style', 'category']\n",
        "\n",
        "X = df.drop(columns_drop, axis=1)\n",
        "X_norm = scaler.fit_transform(X)\n",
        "y = df['label']\n",
        "y_category = df['category']"
      ]
    },
    {
      "cell_type": "code",
      "execution_count": null,
      "metadata": {
        "id": "qI9W5xYGXHMs"
      },
      "outputs": [],
      "source": [
        "X_train, X_test, y_train, y_test = train_test_split(X_norm, y, test_size=0.2, stratify=y_category, random_state=42)"
      ]
    },
    {
      "cell_type": "markdown",
      "metadata": {
        "id": "Ti0UL6gzL7Fl"
      },
      "source": [
        "##Distinguish AI and Human"
      ]
    },
    {
      "cell_type": "code",
      "execution_count": null,
      "metadata": {
        "collapsed": true,
        "id": "IKv1xJ0zEHBF"
      },
      "outputs": [],
      "source": [
        "param_grid = {'C': [0.1, 1, 10],\n",
        "              'gamma': [0.1, 1, 10, 'scale', 'auto'],\n",
        "              'kernel': ['linear', 'rbf']\n",
        "}\n",
        "svm = SVC()\n",
        "\n",
        "grid_search = GridSearchCV(svm, param_grid, verbose=3, cv=5)\n",
        "grid_search.fit(X_train, y_train)\n",
        "\n",
        "print(\"Best parameters found: \", grid_search.best_params_)\n",
        "print(\"Best score: \", grid_search.best_score_)\n",
        "\n",
        "best_svm = grid_search.best_estimator_\n",
        "test_accuracy = best_svm.score(X_test, y_test)\n",
        "\n",
        "print(\"Test set accuracy with best parameters:\", test_accuracy)"
      ]
    },
    {
      "cell_type": "code",
      "source": [
        "model = SVC(kernel='rbf', C=10, gamma='auto')"
      ],
      "metadata": {
        "id": "HbKk2vTCNyC2"
      },
      "execution_count": null,
      "outputs": []
    },
    {
      "cell_type": "code",
      "execution_count": null,
      "metadata": {
        "id": "y_ualX9AzF_m"
      },
      "outputs": [],
      "source": [
        "y_pred = model.predict(X_test)"
      ]
    },
    {
      "cell_type": "code",
      "execution_count": null,
      "metadata": {
        "id": "Vi0q8MFyzKBd"
      },
      "outputs": [],
      "source": [
        "accuracy = accuracy_score(y_test, y_pred)\n",
        "print(f'Accuracy: {accuracy}')"
      ]
    },
    {
      "cell_type": "code",
      "execution_count": null,
      "metadata": {
        "collapsed": true,
        "id": "WUIoUdKPzNOk"
      },
      "outputs": [],
      "source": [
        "cm = confusion_matrix(y_test, y_pred, labels=model.classes_)\n",
        "disp = ConfusionMatrixDisplay(confusion_matrix=cm,\n",
        "                              display_labels=model.classes_)\n",
        "disp.plot()"
      ]
    },
    {
      "cell_type": "markdown",
      "metadata": {
        "id": "h_VCS1YVMDBv"
      },
      "source": [
        "##Distinguish different category"
      ]
    },
    {
      "cell_type": "code",
      "execution_count": null,
      "metadata": {
        "collapsed": true,
        "id": "vgg73gFa0gDW"
      },
      "outputs": [],
      "source": [
        "param_grid = {'C': [0.1, 1, 10],\n",
        "              'gamma': [0.1, 1, 10, 'scale', 'auto'],\n",
        "              'kernel': ['linear', 'rbf']\n",
        "}\n",
        "svm = SVC()\n",
        "\n",
        "grid_search = GridSearchCV(svm, param_grid, verbose=3, cv=5)\n",
        "grid_search.fit(X_train, y_train)\n",
        "\n",
        "print(\"Best parameters found: \", grid_search.best_params_)\n",
        "print(\"Best score: \", grid_search.best_score_)\n",
        "\n",
        "best_svm = grid_search.best_estimator_\n",
        "test_accuracy = best_svm.score(X_test, y_test)\n",
        "\n",
        "print(\"Test set accuracy with best parameters:\", test_accuracy)"
      ]
    },
    {
      "cell_type": "code",
      "execution_count": null,
      "metadata": {
        "id": "AfCaVZ5o1Cij"
      },
      "outputs": [],
      "source": [
        "model = SVC(kernel='rbf', C=10, gamma='scale')"
      ]
    },
    {
      "cell_type": "code",
      "execution_count": null,
      "metadata": {
        "id": "fiFUQhpi1r25"
      },
      "outputs": [],
      "source": [
        "y_pred = model.predict(X_test)"
      ]
    },
    {
      "cell_type": "code",
      "execution_count": null,
      "metadata": {
        "id": "giy4nRZZ1Mm2"
      },
      "outputs": [],
      "source": [
        "accuracy = accuracy_score(y_test, y_pred)\n",
        "print(f'Accuracy: {accuracy}')"
      ]
    },
    {
      "cell_type": "code",
      "execution_count": null,
      "metadata": {
        "id": "_FNOwkIQ1TL8"
      },
      "outputs": [],
      "source": [
        "cm = confusion_matrix(y_test, y_pred, labels=model.classes_)\n",
        "disp = ConfusionMatrixDisplay(confusion_matrix=cm,\n",
        "                              display_labels=model.classes_)\n",
        "disp.plot()\n",
        "plt.xticks(rotation=90)\n",
        "plt.show()"
      ]
    },
    {
      "cell_type": "markdown",
      "metadata": {
        "id": "-6dr4Uw3y_6l"
      },
      "source": [
        "#LR"
      ]
    },
    {
      "cell_type": "markdown",
      "metadata": {
        "id": "YvzYBwx-6l3c"
      },
      "source": [
        "##Set up dataset"
      ]
    },
    {
      "cell_type": "code",
      "execution_count": null,
      "metadata": {
        "id": "msc6FDeq7_CK"
      },
      "outputs": [],
      "source": [
        "df = pd.read_csv('/content/CS180H_size6000.csv') # Replace the path to the dataset to the working one\n",
        "df.dropna(inplace=True)\n",
        "columns_drop = ['label', 'image', 'style']\n",
        "X = df.drop(columns_drop, axis=1)\n",
        "y = df['label']"
      ]
    },
    {
      "cell_type": "code",
      "execution_count": null,
      "metadata": {
        "id": "JAAJQ9CK6rQy"
      },
      "outputs": [],
      "source": [
        "X_train, X_test, y_train, y_test = train_test_split(X, y, test_size=0.2, stratify=y_category, random_state=42)"
      ]
    },
    {
      "cell_type": "markdown",
      "metadata": {
        "id": "P65jkvWqRSgc"
      },
      "source": [
        "##Distinguish AI and Human"
      ]
    },
    {
      "cell_type": "code",
      "execution_count": null,
      "metadata": {
        "id": "RXUE_1cLgwHG"
      },
      "outputs": [],
      "source": [
        "pipeline = Pipeline([\n",
        "    ('scaler', StandardScaler()),\n",
        "    ('logreg', LogisticRegression())\n",
        "])"
      ]
    },
    {
      "cell_type": "code",
      "execution_count": null,
      "metadata": {
        "id": "sm74r0_Bgw5o"
      },
      "outputs": [],
      "source": [
        "param_grid = {\n",
        "    'logreg__solver': ['lbfgs', 'saga', 'liblinear'],\n",
        "    'logreg__penalty': ['l2', 'elasticnet'],\n",
        "    'logreg__C': [0.2, 0.3, 0.5, 0.7, 0.8, 1],\n",
        "    'logreg__max_iter': [50, 80, 100, 120, 200, 500, 1000]\n",
        "}"
      ]
    },
    {
      "cell_type": "code",
      "execution_count": null,
      "metadata": {
        "collapsed": true,
        "id": "pWNam9LHgcIN"
      },
      "outputs": [],
      "source": [
        "grid_search = GridSearchCV(pipeline, param_grid, cv=5, verbose=3)\n",
        "grid_search.fit(X_train, y_train)"
      ]
    },
    {
      "cell_type": "code",
      "execution_count": null,
      "metadata": {
        "id": "Sr6TTV68irTi"
      },
      "outputs": [],
      "source": [
        "print(\"Best parameters found: \", grid_search.best_params_)\n",
        "print(\"Best score: \", grid_search.best_score_)\n",
        "\n",
        "best_lr = grid_search.best_estimator_\n",
        "test_accuracy = best_lr.score(X_test, y_test)\n",
        "\n",
        "print(\"Test set accuracy with best parameters:\", test_accuracy)"
      ]
    },
    {
      "cell_type": "code",
      "execution_count": null,
      "metadata": {
        "id": "jH0QGts6ams4"
      },
      "outputs": [],
      "source": [
        "model = make_pipeline(StandardScaler(), LogisticRegression(C=1, max_iter=50, penalty='l2', solver='liblinear'))\n",
        "model.fit(X_train, y_train)\n",
        "\n",
        "y_pred = model.predict(X_test)\n",
        "accuracy = accuracy_score(y_test, y_pred)\n",
        "print(f'Accuracy: {accuracy}')"
      ]
    },
    {
      "cell_type": "code",
      "execution_count": null,
      "metadata": {
        "id": "s7t9pIsH9ngr"
      },
      "outputs": [],
      "source": [
        "cm = confusion_matrix(y_test, y_pred, labels=model.classes_)\n",
        "disp = ConfusionMatrixDisplay(confusion_matrix=cm,\n",
        "                              display_labels=model.classes_)\n",
        "disp.plot()"
      ]
    },
    {
      "cell_type": "markdown",
      "metadata": {
        "id": "5EiDJLDVUCcu"
      },
      "source": [
        "##Distinguish different category"
      ]
    },
    {
      "cell_type": "code",
      "execution_count": null,
      "metadata": {
        "id": "PZJYJVRiThia"
      },
      "outputs": [],
      "source": [
        "pipeline = Pipeline([\n",
        "    ('scaler', StandardScaler()),\n",
        "    ('logreg', LogisticRegression())\n",
        "])"
      ]
    },
    {
      "cell_type": "code",
      "execution_count": null,
      "metadata": {
        "id": "1nLCDqN6TkT_"
      },
      "outputs": [],
      "source": [
        "param_grid = {\n",
        "    'logreg__solver': ['lbfgs', 'saga', 'liblinear'],\n",
        "    'logreg__penalty': ['l2', 'elasticnet'],\n",
        "    'logreg__C': [0.2, 0.3, 0.5, 0.7, 0.8, 1],\n",
        "    'logreg__max_iter': [50, 80, 100, 120, 200, 500, 1000]\n",
        "}"
      ]
    },
    {
      "cell_type": "code",
      "execution_count": null,
      "metadata": {
        "collapsed": true,
        "id": "vL_9mDwsTnSB"
      },
      "outputs": [],
      "source": [
        "grid_search = GridSearchCV(pipeline, param_grid, cv=5, verbose=3)\n",
        "grid_search.fit(X_train, y_train)"
      ]
    },
    {
      "cell_type": "code",
      "execution_count": null,
      "metadata": {
        "id": "iamFo902Tp62"
      },
      "outputs": [],
      "source": [
        "print(\"Best parameters found: \", grid_search.best_params_)\n",
        "print(\"Best score: \", grid_search.best_score_)\n",
        "\n",
        "best_svm = grid_search.best_estimator_\n",
        "test_accuracy = best_svm.score(X_test, y_test)\n",
        "\n",
        "print(\"Test set accuracy with best parameters:\", test_accuracy)"
      ]
    },
    {
      "cell_type": "code",
      "execution_count": null,
      "metadata": {
        "id": "wdfB-tNT-gKG"
      },
      "outputs": [],
      "source": [
        "best_lr = make_pipeline(StandardScaler(), LogisticRegression(C=1, max_iter=100, penalty='l2', solver='lbfgs'))\n",
        "best_lr.fit(X_train, y_train)\n",
        "\n",
        "y_pred = best_lr.predict(X_test)\n",
        "accuracy = accuracy_score(y_test, y_pred)\n",
        "print(f'Accuracy: {accuracy}')"
      ]
    },
    {
      "cell_type": "code",
      "execution_count": null,
      "metadata": {
        "id": "Gb4TvYfy-qrS"
      },
      "outputs": [],
      "source": [
        "cm = confusion_matrix(y_test, y_pred, labels=best_lr.classes_)\n",
        "disp = ConfusionMatrixDisplay(confusion_matrix=cm,\n",
        "                              display_labels=best_lr.classes_)\n",
        "disp.plot()\n",
        "plt.xticks(rotation=90)\n",
        "plt.show()"
      ]
    },
    {
      "cell_type": "markdown",
      "metadata": {
        "id": "cl-kKONQy3Qt"
      },
      "source": [
        "#MLP"
      ]
    },
    {
      "cell_type": "markdown",
      "metadata": {
        "id": "snaoTO1MzpJa"
      },
      "source": [
        "##Set up dataset"
      ]
    },
    {
      "cell_type": "code",
      "execution_count": null,
      "metadata": {
        "id": "xPJUEGxJP9ta"
      },
      "outputs": [],
      "source": [
        "scaler = StandardScaler()\n",
        "df = pd.read_csv('') # Replace the path to the dataset to the working one\n",
        "df.dropna(inplace=True)\n",
        "columns_drop = ['category', 'image', 'label', 'style']\n",
        "X = df.drop(columns_drop, axis=1)\n",
        "X_norm = scaler.fit_transform(X)\n",
        "y = df['label']\n",
        "y_category = df['category']"
      ]
    },
    {
      "cell_type": "code",
      "execution_count": null,
      "metadata": {
        "id": "vhGhiL-dy6gy"
      },
      "outputs": [],
      "source": [
        "X_train, X_test, y_train, y_test = train_test_split(X_norm, y, test_size=0.2, stratify=y_category, random_state=42)"
      ]
    },
    {
      "cell_type": "markdown",
      "metadata": {
        "id": "yeA2RMV1UY2v"
      },
      "source": [
        "##Distinguish AI and Human"
      ]
    },
    {
      "cell_type": "code",
      "execution_count": null,
      "metadata": {
        "id": "NbP2S97iU_OB"
      },
      "outputs": [],
      "source": [
        "mlp = MLPClassifier()"
      ]
    },
    {
      "cell_type": "code",
      "execution_count": null,
      "metadata": {
        "id": "uc2wsVKOVELj"
      },
      "outputs": [],
      "source": [
        "param_grid = {\n",
        "    'hidden_layer_sizes': [(50,), (100,), (50, 50),],\n",
        "    'activation': ['identity', 'logistic', 'relu'],\n",
        "    'solver': ['adam'],\n",
        "    'alpha': [0.0001, 0.05],\n",
        "    'max_iter': [200, 300, 1000],\n",
        "    'random_state': [30,40,50],\n",
        "    'learning_rate_init': [0.0001]\n",
        "}"
      ]
    },
    {
      "cell_type": "code",
      "execution_count": null,
      "metadata": {
        "id": "PBa6yK7SWFZO"
      },
      "outputs": [],
      "source": [
        "grid = GridSearchCV(mlp, param_grid, verbose=5)"
      ]
    },
    {
      "cell_type": "code",
      "execution_count": null,
      "metadata": {
        "collapsed": true,
        "id": "0M8NbTU_WI7H"
      },
      "outputs": [],
      "source": [
        "grid.fit(X_train, y_train)"
      ]
    },
    {
      "cell_type": "code",
      "execution_count": null,
      "metadata": {
        "id": "y4xC5-e-Wnja"
      },
      "outputs": [],
      "source": [
        "print(\"Best parameters found: \", grid.best_params_)\n",
        "print(\"Best score: \", grid.best_score_)\n",
        "\n",
        "best_svm = grid.best_estimator_\n",
        "test_accuracy = best_svm.score(X_test, y_test)\n",
        "\n",
        "print(\"Test set accuracy with best parameters:\", test_accuracy)"
      ]
    },
    {
      "cell_type": "code",
      "execution_count": null,
      "metadata": {
        "id": "gYts8mpGEDdi"
      },
      "outputs": [],
      "source": [
        "clf = MLPClassifier(alpha = 0.05, hidden_layer_sizes= (50,50), activation='relu', solver='adam', random_state=40, learning_rate_init=0.0001, max_iter=1000).fit(X_train, y_train)"
      ]
    },
    {
      "cell_type": "code",
      "execution_count": null,
      "metadata": {
        "id": "Pdr5lSEwE3zr"
      },
      "outputs": [],
      "source": [
        "clf.score(X_test, y_test)"
      ]
    },
    {
      "cell_type": "code",
      "execution_count": null,
      "metadata": {
        "id": "LPAURmP5EtPR"
      },
      "outputs": [],
      "source": [
        "y_pred = clf.predict(X_test)"
      ]
    },
    {
      "cell_type": "code",
      "execution_count": null,
      "metadata": {
        "id": "J6HIHKzuEyeh"
      },
      "outputs": [],
      "source": [
        "cm = confusion_matrix(y_test, y_pred)"
      ]
    },
    {
      "cell_type": "code",
      "execution_count": null,
      "metadata": {
        "id": "uQJBiPPmE0cL"
      },
      "outputs": [],
      "source": [
        "disp = ConfusionMatrixDisplay(confusion_matrix=cm,\n",
        "                              display_labels=clf.classes_)\n",
        "disp.plot()"
      ]
    },
    {
      "cell_type": "markdown",
      "metadata": {
        "id": "qNSenHOiW5Cm"
      },
      "source": [
        "##Distinguish different categories"
      ]
    },
    {
      "cell_type": "code",
      "execution_count": null,
      "metadata": {
        "id": "Hy7gIdh8YLQY"
      },
      "outputs": [],
      "source": [
        "mlp = MLPClassifier()"
      ]
    },
    {
      "cell_type": "code",
      "execution_count": null,
      "metadata": {
        "id": "z8MsabaUYPJd"
      },
      "outputs": [],
      "source": [
        "param_grid = {\n",
        "    'hidden_layer_sizes': [(50,), (100,), (50, 50),],\n",
        "    'activation': ['identity', 'logistic', 'relu'],\n",
        "    'solver': ['adam'],\n",
        "    'alpha': [0.0001, 0.05],\n",
        "    'max_iter': [200, 300, 1000],\n",
        "    'random_state': [30,40,50],\n",
        "    'learning_rate_init': [0.0001]\n",
        "}"
      ]
    },
    {
      "cell_type": "code",
      "execution_count": null,
      "metadata": {
        "id": "7qsrPz82YRd1"
      },
      "outputs": [],
      "source": [
        "grid = GridSearchCV(mlp, param_grid, verbose=5)"
      ]
    },
    {
      "cell_type": "code",
      "execution_count": null,
      "metadata": {
        "collapsed": true,
        "id": "907OLLlkYTrj"
      },
      "outputs": [],
      "source": [
        "grid.fit(X_train, y_train)"
      ]
    },
    {
      "cell_type": "code",
      "execution_count": null,
      "metadata": {
        "id": "kWwqNUtVYiOI"
      },
      "outputs": [],
      "source": [
        "print(\"Best parameters found: \", grid.best_params_)\n",
        "print(\"Best score: \", grid.best_score_)\n",
        "\n",
        "best_mlp = grid.best_estimator_\n",
        "test_accuracy = best_mlp.score(X_test, y_test)\n",
        "\n",
        "print(\"Test set accuracy with best parameters:\", test_accuracy)"
      ]
    },
    {
      "cell_type": "code",
      "execution_count": null,
      "metadata": {
        "id": "vk-9siYYGEH0"
      },
      "outputs": [],
      "source": [
        "best_mlp = MLPClassifier(alpha = 0.0001, hidden_layer_sizes= (100,), activation='relu', solver='adam', random_state=30, learning_rate_init=0.0001, max_iter=1000).fit(X_train, y_train)"
      ]
    },
    {
      "cell_type": "code",
      "execution_count": null,
      "metadata": {
        "id": "Z3YEmokAGTPu"
      },
      "outputs": [],
      "source": [
        "best_mlp.score(X_test, y_test)"
      ]
    },
    {
      "cell_type": "code",
      "execution_count": null,
      "metadata": {
        "id": "O54qxZa5GLc1"
      },
      "outputs": [],
      "source": [
        "y_pred = best_mlp.predict(X_test)"
      ]
    },
    {
      "cell_type": "code",
      "execution_count": null,
      "metadata": {
        "id": "AUX7GnCYGA6s"
      },
      "outputs": [],
      "source": [
        "cm = confusion_matrix(y_test, y_pred)\n",
        "disp = ConfusionMatrixDisplay(confusion_matrix=cm,\n",
        "                              display_labels=best_mlp.classes_)\n",
        "disp.plot()\n",
        "plt.xticks(rotation=90)\n",
        "plt.show()"
      ]
    }
  ],
  "metadata": {
    "colab": {
      "collapsed_sections": [
        "hn54Af7YrFzz",
        "CWVhuVKkRjhS",
        "s60oKymKh06Q",
        "-6dr4Uw3y_6l",
        "YvzYBwx-6l3c",
        "cl-kKONQy3Qt"
      ],
      "machine_shape": "hm",
      "provenance": []
    },
    "kernelspec": {
      "display_name": "Python 3",
      "name": "python3"
    },
    "language_info": {
      "name": "python"
    }
  },
  "nbformat": 4,
  "nbformat_minor": 0
}